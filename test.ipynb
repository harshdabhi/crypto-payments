{
 "cells": [
  {
   "cell_type": "code",
   "execution_count": 52,
   "metadata": {},
   "outputs": [],
   "source": [
    "from web3 import Web3\n",
    "import requests\n",
    "import configparser\n",
    "import datetime\n",
    "import qrcode\n",
    "import os\n",
    "from dataclasses import dataclass\n",
    "\n",
    "# Set up web3 connection\n",
    "config=configparser.ConfigParser()\n",
    "config.read('config.ini')\n",
    "web3 = Web3(Web3.HTTPProvider(config['infura']['api_url']))\n",
    "\n",
    "@dataclass\n",
    "class payments:\n",
    "\n",
    "    def generate_qr_code(self,link):\n",
    "        os.makedirs('./qrcode',exist_ok=True)\n",
    "        file_time=datetime.datetime.now().strftime('%H_%M_%S')\n",
    "        filename='qr_code'+file_time+'.png'\n",
    "        \n",
    "\n",
    "        qr = qrcode.QRCode(\n",
    "            version=1,\n",
    "            error_correction=qrcode.constants.ERROR_CORRECT_L,\n",
    "            box_size=10,\n",
    "            border=4,\n",
    "        )\n",
    "        qr.add_data(link)\n",
    "        qr.make(fit=True)\n",
    "\n",
    "        qr_image = qr.make_image(fill_color=\"black\", back_color=\"white\")\n",
    "        qr_image.save(os.path.join('./qrcode/'+filename))\n",
    "        return filename\n",
    "\n",
    "\n",
    "    def merchant_inputs(self,usd_value, merchant_wallet_address,payment_assest):\n",
    "        url = \"https://api.coingecko.com/api/v3/simple/price?ids=ethereum&vs_currencies=usd\"\n",
    "\n",
    "        response = requests.get(url)\n",
    "        data = response.json()\n",
    "\n",
    "        eth_price = data['ethereum']['usd']\n",
    "        \n",
    "        usdc_price = 1  # 1 USDC is equal to 1 USD\n",
    "\n",
    "        # Calculate equivalent amounts\n",
    "        eth_amount = usd_value / eth_price\n",
    "        usdc_amount = usd_value / usdc_price\n",
    "\n",
    "        # Create the payment string\n",
    "        eth_payment_string = f\"ethereum:{merchant_wallet_address}?amount={eth_amount}\"\n",
    "        usdc_payment_string = f\"usdc:{merchant_wallet_address}?amount={usdc_amount}\"\n",
    "        \n",
    "        if payment_assest=='usdc':\n",
    "            return usdc_payment_string\n",
    "        else:\n",
    "            return eth_payment_string\n",
    "\n",
    "    \n",
    "\n",
    "    def get_transaction_status(self,tx_hash, your_wallet_address):\n",
    "\n",
    "        transaction = web3.eth.get_transaction(tx_hash)\n",
    "\n",
    "        ### keeping 2 minute window to verify transaction by user  ###   assuming 1 block takes 12 seconds  ###\n",
    "\n",
    "        if web3.eth.get_block_number()-transaction['blockNumber']<=10:\n",
    "            \n",
    "\n",
    "            if transaction is None:\n",
    "                return \"Transaction not found\"\n",
    "\n",
    "            if transaction.blockNumber is None:\n",
    "                return \"Transaction is still pending\"\n",
    "\n",
    "            transaction_receipt = web3.eth.get_transaction_receipt(tx_hash)\n",
    "\n",
    "            if transaction_receipt.status == 0:\n",
    "                return \"Transaction failed\"\n",
    "            elif your_wallet_address == transaction['to']:\n",
    "                return \"Transaction succeeded\"\n",
    "        else:\n",
    "            return 'System timeout!! submit yout transaction hash and check with merchant'\n",
    "\n",
    "\n",
    "\n",
    "\n"
   ]
  },
  {
   "cell_type": "code",
   "execution_count": 55,
   "metadata": {},
   "outputs": [
    {
     "data": {
      "text/plain": [
       "'qr_code18_18_33.png'"
      ]
     },
     "execution_count": 55,
     "metadata": {},
     "output_type": "execute_result"
    }
   ],
   "source": []
  },
  {
   "cell_type": "code",
   "execution_count": null,
   "metadata": {},
   "outputs": [],
   "source": []
  }
 ],
 "metadata": {
  "kernelspec": {
   "display_name": "Python 3",
   "language": "python",
   "name": "python3"
  },
  "language_info": {
   "codemirror_mode": {
    "name": "ipython",
    "version": 3
   },
   "file_extension": ".py",
   "mimetype": "text/x-python",
   "name": "python",
   "nbconvert_exporter": "python",
   "pygments_lexer": "ipython3",
   "version": "3.10.9"
  },
  "orig_nbformat": 4
 },
 "nbformat": 4,
 "nbformat_minor": 2
}
